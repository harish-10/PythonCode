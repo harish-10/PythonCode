{
 "cells": [
  {
   "cell_type": "code",
   "execution_count": 19,
   "metadata": {
    "collapsed": true
   },
   "outputs": [],
   "source": [
    "import pandas as pd\n",
    "import numpy as np\n",
    "from sklearn.linear_model import LinearRegression\n",
    "from sklearn.model_selection import train_test_split\n",
    "import matplotlib.pyplot as plt\n",
    "import seaborn as sns"
   ]
  },
  {
   "cell_type": "code",
   "execution_count": 2,
   "metadata": {},
   "outputs": [
    {
     "data": {
      "text/html": [
       "<div>\n",
       "<style>\n",
       "    .dataframe thead tr:only-child th {\n",
       "        text-align: right;\n",
       "    }\n",
       "\n",
       "    .dataframe thead th {\n",
       "        text-align: left;\n",
       "    }\n",
       "\n",
       "    .dataframe tbody tr th {\n",
       "        vertical-align: top;\n",
       "    }\n",
       "</style>\n",
       "<table border=\"1\" class=\"dataframe\">\n",
       "  <thead>\n",
       "    <tr style=\"text-align: right;\">\n",
       "      <th></th>\n",
       "      <th>length</th>\n",
       "      <th>width</th>\n",
       "      <th>curb-weight</th>\n",
       "      <th>engine-size</th>\n",
       "      <th>horsepower</th>\n",
       "      <th>city-L/100km</th>\n",
       "      <th>highway-L/100km</th>\n",
       "      <th>wheel-base</th>\n",
       "      <th>bore</th>\n",
       "      <th>drive-wheels</th>\n",
       "      <th>price</th>\n",
       "    </tr>\n",
       "  </thead>\n",
       "  <tbody>\n",
       "    <tr>\n",
       "      <th>0</th>\n",
       "      <td>0.413433</td>\n",
       "      <td>0.324786</td>\n",
       "      <td>0.411171</td>\n",
       "      <td>0.260377</td>\n",
       "      <td>0.294393</td>\n",
       "      <td>0.481481</td>\n",
       "      <td>0.421053</td>\n",
       "      <td>0.058309</td>\n",
       "      <td>0.664286</td>\n",
       "      <td>rwd</td>\n",
       "      <td>13495</td>\n",
       "    </tr>\n",
       "    <tr>\n",
       "      <th>1</th>\n",
       "      <td>0.413433</td>\n",
       "      <td>0.324786</td>\n",
       "      <td>0.411171</td>\n",
       "      <td>0.260377</td>\n",
       "      <td>0.294393</td>\n",
       "      <td>0.481481</td>\n",
       "      <td>0.421053</td>\n",
       "      <td>0.058309</td>\n",
       "      <td>0.664286</td>\n",
       "      <td>rwd</td>\n",
       "      <td>16500</td>\n",
       "    </tr>\n",
       "    <tr>\n",
       "      <th>2</th>\n",
       "      <td>0.449254</td>\n",
       "      <td>0.444444</td>\n",
       "      <td>0.517843</td>\n",
       "      <td>0.343396</td>\n",
       "      <td>0.495327</td>\n",
       "      <td>0.570175</td>\n",
       "      <td>0.453441</td>\n",
       "      <td>0.230321</td>\n",
       "      <td>0.100000</td>\n",
       "      <td>rwd</td>\n",
       "      <td>16500</td>\n",
       "    </tr>\n",
       "    <tr>\n",
       "      <th>3</th>\n",
       "      <td>0.529851</td>\n",
       "      <td>0.504274</td>\n",
       "      <td>0.329325</td>\n",
       "      <td>0.181132</td>\n",
       "      <td>0.252336</td>\n",
       "      <td>0.376157</td>\n",
       "      <td>0.336842</td>\n",
       "      <td>0.384840</td>\n",
       "      <td>0.464286</td>\n",
       "      <td>fwd</td>\n",
       "      <td>13950</td>\n",
       "    </tr>\n",
       "    <tr>\n",
       "      <th>4</th>\n",
       "      <td>0.529851</td>\n",
       "      <td>0.521368</td>\n",
       "      <td>0.518231</td>\n",
       "      <td>0.283019</td>\n",
       "      <td>0.313084</td>\n",
       "      <td>0.621914</td>\n",
       "      <td>0.612440</td>\n",
       "      <td>0.373178</td>\n",
       "      <td>0.464286</td>\n",
       "      <td>4wd</td>\n",
       "      <td>17450</td>\n",
       "    </tr>\n",
       "  </tbody>\n",
       "</table>\n",
       "</div>"
      ],
      "text/plain": [
       "     length     width  curb-weight  engine-size  horsepower  city-L/100km  \\\n",
       "0  0.413433  0.324786     0.411171     0.260377    0.294393      0.481481   \n",
       "1  0.413433  0.324786     0.411171     0.260377    0.294393      0.481481   \n",
       "2  0.449254  0.444444     0.517843     0.343396    0.495327      0.570175   \n",
       "3  0.529851  0.504274     0.329325     0.181132    0.252336      0.376157   \n",
       "4  0.529851  0.521368     0.518231     0.283019    0.313084      0.621914   \n",
       "\n",
       "   highway-L/100km  wheel-base      bore drive-wheels  price  \n",
       "0         0.421053    0.058309  0.664286          rwd  13495  \n",
       "1         0.421053    0.058309  0.664286          rwd  16500  \n",
       "2         0.453441    0.230321  0.100000          rwd  16500  \n",
       "3         0.336842    0.384840  0.464286          fwd  13950  \n",
       "4         0.612440    0.373178  0.464286          4wd  17450  "
      ]
     },
     "execution_count": 2,
     "metadata": {},
     "output_type": "execute_result"
    }
   ],
   "source": [
    "df=pd.read_csv(\"finalized_data.csv\",index_col=0)\n",
    "df.head()"
   ]
  },
  {
   "cell_type": "code",
   "execution_count": 3,
   "metadata": {
    "collapsed": true
   },
   "outputs": [],
   "source": [
    "x=df.drop(['price','drive-wheels'],axis=1)\n",
    "y=df['price']\n",
    "X_train, X_test, y_train, y_test = train_test_split(x, y, test_size=0.2)"
   ]
  },
  {
   "cell_type": "code",
   "execution_count": 4,
   "metadata": {},
   "outputs": [
    {
     "data": {
      "text/plain": [
       "LinearRegression(copy_X=True, fit_intercept=True, n_jobs=1, normalize=False)"
      ]
     },
     "execution_count": 4,
     "metadata": {},
     "output_type": "execute_result"
    }
   ],
   "source": [
    "lm=LinearRegression()\n",
    "lm.fit(X_train,y_train)"
   ]
  },
  {
   "cell_type": "code",
   "execution_count": 5,
   "metadata": {
    "collapsed": true
   },
   "outputs": [],
   "source": [
    "y_pred=lm.predict(X_test)"
   ]
  },
  {
   "cell_type": "code",
   "execution_count": 16,
   "metadata": {},
   "outputs": [
    {
     "data": {
      "text/plain": [
       "array([[ 0.58507463],\n",
       "       [ 0.42686567],\n",
       "       [ 0.63283582],\n",
       "       [ 0.77014925],\n",
       "       [ 0.26268657],\n",
       "       [ 0.68059701],\n",
       "       [ 0.45671642],\n",
       "       [ 0.53283582],\n",
       "       [ 0.44179104],\n",
       "       [ 0.46119403],\n",
       "       [ 0.63283582],\n",
       "       [ 0.67910448],\n",
       "       [ 0.5238806 ],\n",
       "       [ 0.33283582],\n",
       "       [ 0.77014925],\n",
       "       [ 0.7119403 ],\n",
       "       [ 0.48507463],\n",
       "       [ 0.5238806 ],\n",
       "       [ 0.3761194 ],\n",
       "       [ 0.05223881],\n",
       "       [ 0.75522388],\n",
       "       [ 0.26268657],\n",
       "       [ 0.86268657],\n",
       "       [ 0.53283582],\n",
       "       [ 0.43432836],\n",
       "       [ 0.47910448],\n",
       "       [ 0.86268657],\n",
       "       [ 0.36119403],\n",
       "       [ 0.48208955],\n",
       "       [ 0.7119403 ],\n",
       "       [ 0.46119403],\n",
       "       [ 0.4119403 ],\n",
       "       [ 0.45671642],\n",
       "       [ 0.62686567],\n",
       "       [ 0.46119403],\n",
       "       [ 0.24179104],\n",
       "       [ 0.39402985],\n",
       "       [ 0.36119403],\n",
       "       [ 0.58358209],\n",
       "       [ 0.64925373],\n",
       "       [ 0.86716418]])"
      ]
     },
     "execution_count": 16,
     "metadata": {},
     "output_type": "execute_result"
    }
   ],
   "source": [
    "np.array(X_test[['length']])"
   ]
  },
  {
   "cell_type": "code",
   "execution_count": 23,
   "metadata": {},
   "outputs": [
    {
     "data": {
      "image/png": "[encoded data removed]",
      "text/plain": [
       "<matplotlib.figure.Figure at 0x13c068efd68>"
      ]
     },
     "metadata": {},
     "output_type": "display_data"
    }
   ],
   "source": [
    "plt.scatter(np.array(X_test[['length']]),y_test,c='r')\n",
    "plt.scatter(np.array(X_test[['length']]),y_pred,c='b')\n",
    "plt.show()"
   ]
  },
  {
   "cell_type": "code",
   "execution_count": 24,
   "metadata": {
    "collapsed": true
   },
   "outputs": [],
   "source": [
    "from sklearn.metrics import mean_squared_error as msq"
   ]
  },
  {
   "cell_type": "code",
   "execution_count": 25,
   "metadata": {},
   "outputs": [
    {
     "data": {
      "text/plain": [
       "14927636.198604435"
      ]
     },
     "execution_count": 25,
     "metadata": {},
     "output_type": "execute_result"
    }
   ],
   "source": [
    "msq(y_test,y_pred)"
   ]
  },
  {
   "cell_type": "code",
   "execution_count": 27,
   "metadata": {},
   "outputs": [
    {
     "data": {
      "text/plain": [
       "0.7952061122016375"
      ]
     },
     "execution_count": 27,
     "metadata": {},
     "output_type": "execute_result"
    }
   ],
   "source": [
    "lm.score(X_test,y_test)"
   ]
  }
 ],
 "metadata": {
  "kernelspec": {
   "display_name": "Python [conda env:Anaconda3]",
   "language": "python",
   "name": "conda-env-Anaconda3-py"
  },
  "language_info": {
   "codemirror_mode": {
    "name": "ipython",
    "version": 3
   },
   "file_extension": ".py",
   "mimetype": "text/x-python",
   "name": "python",
   "nbconvert_exporter": "python",
   "pygments_lexer": "ipython3",
   "version": "3.6.3"
  }
 },
 "nbformat": 4,
 "nbformat_minor": 2
}
